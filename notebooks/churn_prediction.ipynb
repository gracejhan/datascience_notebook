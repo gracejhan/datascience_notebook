{
 "cells": [
  {
   "cell_type": "code",
   "execution_count": 11,
   "metadata": {
    "collapsed": true
   },
   "outputs": [],
   "source": [
    "# Introduction to Data Science Homework 2: Churn Prediction\n",
    "# Name: Jungwoo Han \n",
    "# jh5990@nyu.edu\n",
    "\n",
    "# Score for this model on Kaggle : 0.71511"
   ]
  },
  {
   "cell_type": "code",
   "execution_count": 12,
   "metadata": {
    "collapsed": true
   },
   "outputs": [],
   "source": [
    "from __future__ import division\n",
    "import pandas as pd\n",
    "import numpy as np\n",
    "\n",
    "# read csv format data\n",
    "churn_df = pd.read_csv('train.csv')    # training data\n",
    "churn_test = pd.read_csv('test.csv')   # test data\n",
    "\n",
    "col_names = churn_df.columns.tolist()\n",
    "col_names_test = churn_test.columns.tolist()\n",
    "\n",
    "# remove rows which have NaN values\n",
    "churn_df.dropna(how='any', inplace=True)\n",
    "churn_test.dropna(how='any', inplace=True)\n",
    "\n",
    "# replace COLLEGE elements to numbers\n",
    "churn_df['COLLEGE'] = churn_df['COLLEGE'].replace({\"one\": \"1\", \"zero\": \"0\"})\n",
    "churn_test['COLLEGE'] = churn_test['COLLEGE'].replace({\"one\": \"1\", \"zero\": \"0\"})\n",
    "\n",
    "# replace REPORTED_SATISFACTION elements to numbers - weighted by frequency\n",
    "churn_df['REPORTED_SATISFACTION'] = churn_df['REPORTED_SATISFACTION'].replace({\"very_sat\": \"5\", \"sat\": \"2\", \"avg\": \"6\", \"unsat\": \"16\", \"very_unsat\": \"45\"})\n",
    "churn_test['REPORTED_SATISFACTION'] = churn_test['REPORTED_SATISFACTION'].replace({\"very_sat\": \"5\", \"sat\": \"2\", \"avg\": \"6\", \"unsat\": \"16\", \"very_unsat\": \"45\"})\n",
    "\n",
    "# replace REPORTED_USAGE_LEVEL elements to numbers - weighted by frequency\n",
    "churn_df['REPORTED_USAGE_LEVEL'] = churn_df['REPORTED_USAGE_LEVEL'].replace({\"very_little\": \"20\", \"little\": \"36\", \"avg\": \"3\", \"high\": \"4\", \"very_high\": \"5\"})\n",
    "churn_test['REPORTED_USAGE_LEVEL'] = churn_test['REPORTED_USAGE_LEVEL'].replace({\"very_little\": \"20\", \"little\": \"36\", \"avg\": \"3\", \"high\": \"4\", \"very_high\": \"5\"})\n",
    "\n",
    "# replace CONSIDERING_CHANGE_OF_PLAN elements to numbers - weighted by frequency\n",
    "churn_df['CONSIDERING_CHANGE_OF_PLAN'] = churn_df['CONSIDERING_CHANGE_OF_PLAN'].replace({\"never_thought\": \"2\", \"no\": \"8\", \"perhaps\": \"3\", \"considering\": \"36\", \"actively_looking_into_it\": \"25\"})\n",
    "churn_test['CONSIDERING_CHANGE_OF_PLAN'] = churn_test['CONSIDERING_CHANGE_OF_PLAN'].replace({\"never_thought\": \"2\", \"no\": \"8\", \"perhaps\": \"3\", \"considering\": \"36\", \"actively_looking_into_it\": \"25\"})"
   ]
  },
  {
   "cell_type": "code",
   "execution_count": 13,
   "metadata": {},
   "outputs": [],
   "source": [
    "# take log of data which have a wide range of numerical value\n",
    "churn_df['INCOME'] = np.log(churn_df['INCOME'])\n",
    "churn_test['INCOME'] = np.log(churn_test['INCOME'])\n",
    "\n",
    "churn_df['HANDSET_PRICE'] = np.log(churn_df['HANDSET_PRICE'])\n",
    "churn_test['HANDSET_PRICE'] = np.log(churn_test['HANDSET_PRICE'])\n",
    "\n",
    "churn_df['HOUSE'] = np.log(churn_df['HOUSE'])\n",
    "churn_test['HOUSE'] = np.log(churn_test['HOUSE'])"
   ]
  },
  {
   "cell_type": "code",
   "execution_count": 14,
   "metadata": {},
   "outputs": [],
   "source": [
    "# isolate target data\n",
    "churn_result = churn_df['LEAVE']\n",
    "y = np.where(churn_result == 1, 1, 0)\n",
    "\n",
    "# choose the columns to drop\n",
    "to_drop = ['LEAVE']\n",
    "to_drop_test = []\n",
    "\n",
    "churn_feat_space = churn_df.drop(to_drop,axis=1)\n",
    "churn_feat_test = churn_test.drop(to_drop_test,axis=1)\n",
    "\n",
    "# save the features selected for training\n",
    "features = churn_feat_space.columns"
   ]
  },
  {
   "cell_type": "code",
   "execution_count": 15,
   "metadata": {
    "collapsed": true
   },
   "outputs": [],
   "source": [
    "X = churn_feat_space.as_matrix().astype(np.float)\n",
    "X_test = churn_feat_test.as_matrix().astype(np.float)"
   ]
  },
  {
   "cell_type": "code",
   "execution_count": 16,
   "metadata": {},
   "outputs": [],
   "source": [
    "# normalize the data\n",
    "from sklearn.preprocessing import StandardScaler\n",
    "scaler = StandardScaler()\n",
    "\n",
    "# combine training data and test data\n",
    "X2 = np.concatenate((X, X_test), axis=0)\n",
    "\n",
    "# normalize\n",
    "X2 = scaler.fit_transform(X2)\n",
    "\n",
    "# separate the two sets of data\n",
    "X = X2[0:(X2.shape[0]-X_test.shape[0])]\n",
    "X_test = X2[X.shape[0]:] "
   ]
  },
  {
   "cell_type": "code",
   "execution_count": 17,
   "metadata": {},
   "outputs": [
    {
     "name": "stdout",
     "output_type": "stream",
     "text": [
      "Decision Tree:\n",
      "0.701\n"
     ]
    }
   ],
   "source": [
    "# model validation\n",
    "from sklearn.model_selection import KFold\n",
    "from sklearn.tree import DecisionTreeClassifier as DT\n",
    "from sklearn.svm import SVC\n",
    "\n",
    "def run_cv(X,y,clf_class,**kwargs):\n",
    "    # Construct a kfolds object\n",
    "    kf = KFold(n_splits=10,shuffle=True)\n",
    "    y_pred = y.copy()\n",
    "\n",
    "    # Iterate through folds\n",
    "    for train_index, test_index in kf.split(X):\n",
    "        X_train, X_test = X[train_index], X[test_index]\n",
    "        y_train = y[train_index]\n",
    "        # Initialize a classifier with key word arguments\n",
    "        clf = clf_class(**kwargs)\n",
    "        clf.fit(X_train,y_train)\n",
    "        y_pred[test_index] = clf.predict(X_test)\n",
    "    return y_pred\n",
    "\n",
    "def accuracy(y_true,y_pred):\n",
    "    # NumPy interprets True and False as 1. and 0.\n",
    "    return np.mean(y_true == y_pred)\n",
    "\n",
    "# uncomment to test SVM\n",
    "# print(\"Support Vector Machine:\")\n",
    "# print (\"%.3f\" % accuracy(y, run_cv(X,y,SVC,C=409, gamma=0.00065, kernel='rbf')))\n",
    "print(\"Decision Tree:\")\n",
    "print (\"%.3f\" % accuracy(y, run_cv(X,y,DT,min_samples_leaf=30, max_depth=4)))"
   ]
  },
  {
   "cell_type": "code",
   "execution_count": 18,
   "metadata": {},
   "outputs": [
    {
     "data": {
      "text/plain": [
       "DecisionTreeClassifier(class_weight=None, criterion='gini', max_depth=4,\n",
       "            max_features=None, max_leaf_nodes=None,\n",
       "            min_impurity_decrease=0.0, min_impurity_split=None,\n",
       "            min_samples_leaf=30, min_samples_split=2,\n",
       "            min_weight_fraction_leaf=0.0, presort=False, random_state=None,\n",
       "            splitter='best')"
      ]
     },
     "execution_count": 18,
     "metadata": {},
     "output_type": "execute_result"
    }
   ],
   "source": [
    "# Model: Decision Tree\n",
    "from sklearn import tree\n",
    "model = tree.DecisionTreeClassifier(min_samples_leaf=30,max_depth=4)\n",
    "model.fit(X,y)"
   ]
  },
  {
   "cell_type": "code",
   "execution_count": 19,
   "metadata": {},
   "outputs": [],
   "source": [
    "# run the model on test data\n",
    "prediction_dt = model.predict(X_test)\n",
    "\n",
    "# convert float to integer\n",
    "for j in range(len(prediction_dt)):\n",
    "    prediction_dt[j] = int(prediction_dt[j])"
   ]
  },
  {
   "cell_type": "code",
   "execution_count": 20,
   "metadata": {
    "collapsed": true
   },
   "outputs": [],
   "source": [
    "# save the predicted data as a csv file\n",
    "np.savetxt(\"prediction.csv\", prediction_dt, delimiter=\",\")"
   ]
  },
  {
   "cell_type": "code",
   "execution_count": null,
   "metadata": {
    "collapsed": true
   },
   "outputs": [],
   "source": []
  },
  {
   "cell_type": "code",
   "execution_count": null,
   "metadata": {
    "collapsed": true
   },
   "outputs": [],
   "source": []
  }
 ],
 "metadata": {
  "kernelspec": {
   "display_name": "Python 3",
   "language": "python",
   "name": "python3"
  },
  "language_info": {
   "codemirror_mode": {
    "name": "ipython",
    "version": 3
   },
   "file_extension": ".py",
   "mimetype": "text/x-python",
   "name": "python",
   "nbconvert_exporter": "python",
   "pygments_lexer": "ipython3",
   "version": "3.6.3"
  }
 },
 "nbformat": 4,
 "nbformat_minor": 2
}
